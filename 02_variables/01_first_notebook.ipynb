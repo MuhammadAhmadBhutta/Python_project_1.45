{
 "cells": [
  {
   "cell_type": "markdown",
   "metadata": {},
   "source": [
    "### First NoteBook"
   ]
  },
  {
   "cell_type": "code",
   "execution_count": 1,
   "metadata": {},
   "outputs": [
    {
     "name": "stdout",
     "output_type": "stream",
     "text": [
      "hollo world\n",
      "I am repractice on python\n",
      "And I am very excited to learn python\n"
     ]
    }
   ],
   "source": [
    "print(\"hollo world\")\n",
    "print(\"I am repractice on python\")\n",
    "print(\"And I am very excited to learn python\")"
   ]
  },
  {
   "cell_type": "code",
   "execution_count": 1,
   "metadata": {},
   "outputs": [
    {
     "name": "stdout",
     "output_type": "stream",
     "text": [
      "I use many time jupyter note\n",
      "And it best is that if use jupyter in vs code\n"
     ]
    }
   ],
   "source": [
    "print(\"I use many time jupyter note\")\n",
    "print(\"And it best is that if use jupyter in vs code\")"
   ]
  },
  {
   "cell_type": "markdown",
   "metadata": {},
   "source": [
    "-------"
   ]
  }
 ],
 "metadata": {
  "kernelspec": {
   "display_name": "python_basics",
   "language": "python",
   "name": "python3"
  },
  "language_info": {
   "codemirror_mode": {
    "name": "ipython",
    "version": 3
   },
   "file_extension": ".py",
   "mimetype": "text/x-python",
   "name": "python",
   "nbconvert_exporter": "python",
   "pygments_lexer": "ipython3",
   "version": "3.10.16"
  }
 },
 "nbformat": 4,
 "nbformat_minor": 2
}
