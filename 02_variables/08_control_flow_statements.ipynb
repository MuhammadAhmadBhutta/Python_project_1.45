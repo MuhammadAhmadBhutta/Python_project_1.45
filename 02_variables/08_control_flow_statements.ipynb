{
 "cells": [
  {
   "cell_type": "markdown",
   "metadata": {},
   "source": [
    "# Control Flow Statements"
   ]
  },
  {
   "cell_type": "markdown",
   "metadata": {},
   "source": [
    "## if,elif,else"
   ]
  },
  {
   "cell_type": "code",
   "execution_count": 1,
   "metadata": {},
   "outputs": [
    {
     "name": "stdout",
     "output_type": "stream",
     "text": [
      "You should enroll in a school with Form-B.\n"
     ]
    }
   ],
   "source": [
    "age = 6\n",
    "if age >= 18:\n",
    "    print(\"You are eligible to vote.\")\n",
    "elif age == 5:\n",
    "    print(\"You are still a toddler.\")\n",
    "elif age >= 6 and age <= 10:\n",
    "    print(\"You should enroll in a school with Form-B.\")\n",
    "else:\n",
    "    print(\"You are not eligible to vote.\")"
   ]
  },
  {
   "cell_type": "code",
   "execution_count": null,
   "metadata": {},
   "outputs": [
    {
     "name": "stdout",
     "output_type": "stream",
     "text": [
      "You are not eligible to vote.\n"
     ]
    }
   ],
   "source": [
    "age = 17\n",
    "if age >= 18:\n",
    "    print(\"You are eligible to vote.\")\n",
    "elif age == 5:\n",
    "    print(\"You are still a toddler.\")\n",
    "elif age >= 6 and age <= 10:\n",
    "    print(\"You should enrol in a school with Form-B.\")\n",
    "else:\n",
    "    print(\"You are not eligible to vote.\")"
   ]
  },
  {
   "cell_type": "code",
   "execution_count": null,
   "metadata": {},
   "outputs": [
    {
     "name": "stdout",
     "output_type": "stream",
     "text": [
      "You are still a toddler.\n"
     ]
    }
   ],
   "source": [
    "age = 5\n",
    "if age >= 18:\n",
    "    print(\"You are eligible to vote.\")\n",
    "elif age == 5:\n",
    "    print(\"You are still a toddler.\")\n",
    "elif age >= 6 and age <= 10:\n",
    "    print(\"You should enrol in a school with Form-B.\")\n",
    "else:\n",
    "    print(\"You are not eligible to vote.\")"
   ]
  },
  {
   "cell_type": "code",
   "execution_count": 20,
   "metadata": {},
   "outputs": [
    {
     "name": "stdout",
     "output_type": "stream",
     "text": [
      "You should enrol in a school with Form-B.\n"
     ]
    }
   ],
   "source": [
    "age = 8 \n",
    "if age >= 18:\n",
    "    print(\"You are eligible to vote.\")\n",
    "elif age == 5:\n",
    "    print(\"You are still a toddler.\")\n",
    "elif age >= 6 and age <= 10:\n",
    "    print(\"You should enrol in a school with Form-B.\")\n",
    "else:\n",
    "    print(\"You are not eligible to vote.\")"
   ]
  },
  {
   "cell_type": "code",
   "execution_count": 19,
   "metadata": {},
   "outputs": [
    {
     "name": "stdout",
     "output_type": "stream",
     "text": [
      "You are eligible to vote.\n"
     ]
    }
   ],
   "source": [
    "age = 20 \n",
    "if age >= 18:\n",
    "    print(\"You are eligible to vote.\")\n",
    "elif age == 5:\n",
    "    print(\"You are still a toddler.\")\n",
    "elif age >= 6 and age <= 10:\n",
    "    print(\"You should enrol in a school with Form-B.\")\n",
    "else:\n",
    "    print(\"You are not eligible to vote.\")"
   ]
  },
  {
   "cell_type": "markdown",
   "metadata": {},
   "source": [
    "## Example "
   ]
  },
  {
   "cell_type": "code",
   "execution_count": 22,
   "metadata": {},
   "outputs": [
    {
     "name": "stdout",
     "output_type": "stream",
     "text": [
      "It's a hot day.You need to drink cold water.\n"
     ]
    }
   ],
   "source": [
    "temp = 32\n",
    "\n",
    "if temp >= 30:\n",
    "    print(\"It's a hot day.You need to drink cold water.\")\n",
    "elif temp >= 10:\n",
    "    print(\"It's a cold day.You need to drink hot water.\")\n",
    "else:\n",
    "    print(\"It's a neither hot nor cold day. Enjoy the weather.\")"
   ]
  },
  {
   "cell_type": "code",
   "execution_count": 26,
   "metadata": {},
   "outputs": [
    {
     "name": "stdout",
     "output_type": "stream",
     "text": [
      "It's a normal day. let's have Aalo Gobhi.\n"
     ]
    }
   ],
   "source": [
    "occassion = \"Eidr\"\n",
    "\n",
    "if occassion == \"Eid_ul_Fitr\":\n",
    "    print(\"Let's prepare some sheer khurma.\")\n",
    "elif occassion == \"Eid_ul_Adha\":\n",
    "    print(\"Let's prepare some kebab.\")\n",
    "else:\n",
    "    print(\"It's a normal day. let's have Aalo Gobhi.\")"
   ]
  },
  {
   "cell_type": "markdown",
   "metadata": {},
   "source": [
    "## Nested if statements"
   ]
  },
  {
   "cell_type": "code",
   "execution_count": 29,
   "metadata": {},
   "outputs": [
    {
     "name": "stdout",
     "output_type": "stream",
     "text": [
      "You are not eligible to drive,you need a license.\n"
     ]
    }
   ],
   "source": [
    "age = 18\n",
    "license = False\n",
    "\n",
    "if age >= 18:\n",
    "    if license: \n",
    "        print(\"You are eligible to drive.\")\n",
    "    else:\n",
    "        print(\"You are not eligible to drive,you need a license.\")\n",
    "else:\n",
    "    print(\"you are not eligible to drive.\")"
   ]
  },
  {
   "cell_type": "markdown",
   "metadata": {},
   "source": [
    "# Loops"
   ]
  },
  {
   "cell_type": "markdown",
   "metadata": {},
   "source": [
    "## 1. for loop"
   ]
  },
  {
   "cell_type": "code",
   "execution_count": 31,
   "metadata": {},
   "outputs": [
    {
     "name": "stdout",
     "output_type": "stream",
     "text": [
      "Ahmad\n",
      "Ali\n",
      "Usman\n",
      "Hammad\n",
      "Amar\n",
      "Shahid\n",
      "Tariq\n",
      "umer\n"
     ]
    }
   ],
   "source": [
    "list = [\"Ahmad\",\"Ali\",\"Usman\",\"Hammad\",\"Amar\",\"Shahid\",\"Tariq\",\"umer\"]\n",
    "\n",
    "for name in list:\n",
    "    print(name)"
   ]
  },
  {
   "cell_type": "markdown",
   "metadata": {},
   "source": [
    "## 2. While loop"
   ]
  },
  {
   "cell_type": "code",
   "execution_count": 37,
   "metadata": {},
   "outputs": [
    {
     "name": "stdout",
     "output_type": "stream",
     "text": [
      "coffee cup 1 is served!\n",
      "coffee cup 2 is served!\n",
      "coffee cup 3 is served!\n",
      "I'm full now, no more coffee!\n"
     ]
    }
   ],
   "source": [
    "cups_of_coffee = 0\n",
    "\n",
    "while cups_of_coffee < 3:\n",
    "    cups_of_coffee += 1\n",
    "    print(f\"coffee cup {cups_of_coffee} is served!\")\n",
    "    \n",
    "print(\"I'm full now, no more coffee!\")"
   ]
  },
  {
   "cell_type": "code",
   "execution_count": 36,
   "metadata": {},
   "outputs": [
    {
     "name": "stdout",
     "output_type": "stream",
     "text": [
      "coffee cup 1 is served!\n",
      "coffee cup 2 is served!\n",
      "coffee cup 3 is served!\n",
      "coffee cup 4 is served!\n",
      "coffee cup 5 is served!\n",
      "coffee cup 6 is served!\n",
      "coffee cup 7 is served!\n",
      "coffee cup 8 is served!\n",
      "coffee cup 9 is served!\n",
      "coffee cup 10 is served!\n",
      "I'm full now, no more coffee!\n"
     ]
    }
   ],
   "source": [
    "cups_of_coffee = 0\n",
    "\n",
    "while cups_of_coffee < 10:\n",
    "    cups_of_coffee += 1\n",
    "    print(f\"coffee cup {cups_of_coffee} is served!\")\n",
    "    \n",
    "print(\"I'm full now, no more coffee!\")"
   ]
  },
  {
   "cell_type": "code",
   "execution_count": 45,
   "metadata": {},
   "outputs": [
    {
     "name": "stdout",
     "output_type": "stream",
     "text": [
      "coffee cup 1 is served!\n",
      "coffee cup 2 is served!\n",
      "coffee cup 3 is served!\n",
      "coffee cup 4 is served!\n",
      "coffee cup 5 is served!\n",
      "I'm full now, no more coffee!\n"
     ]
    }
   ],
   "source": [
    "cups_of_coffee = 0\n",
    "\n",
    "while cups_of_coffee < 5:\n",
    "    cups_of_coffee += 1\n",
    "    print(f\"coffee cup {cups_of_coffee} is served!\")\n",
    "    \n",
    "print(\"I'm full now, no more coffee!\")"
   ]
  },
  {
   "cell_type": "markdown",
   "metadata": {},
   "source": [
    "## Break and Continue"
   ]
  },
  {
   "cell_type": "code",
   "execution_count": 48,
   "metadata": {},
   "outputs": [
    {
     "name": "stdout",
     "output_type": "stream",
     "text": [
      "coffee cup 1 is served!\n",
      "I have had 1 cups of coffee.\n",
      "coffee cup 2 is served!\n",
      "I have had 2 cups of coffee.\n",
      "coffee cup 3 is served!\n",
      "I have had 3 cups of coffee.\n",
      "coffee cup 4 is served!\n",
      "Too much coffee!,stopping now.\n"
     ]
    }
   ],
   "source": [
    "cups_of_coffee = 0\n",
    "\n",
    "while cups_of_coffee < 2000:\n",
    "    cups_of_coffee += 1\n",
    "    print(f\"coffee cup {cups_of_coffee} is served!\")\n",
    "    if cups_of_coffee == 4:\n",
    "        print(\"Too much coffee!,stopping now.\")\n",
    "        break\n",
    "    print(\"I have had\", cups_of_coffee, \"cups of coffee.\")"
   ]
  },
  {
   "cell_type": "markdown",
   "metadata": {},
   "source": [
    "## continue"
   ]
  },
  {
   "cell_type": "code",
   "execution_count": 49,
   "metadata": {},
   "outputs": [
    {
     "name": "stdout",
     "output_type": "stream",
     "text": [
      "coffee cup 1 is served!\n",
      "I have had 1 cups of coffee.\n",
      "coffee cup 2 is served!\n",
      "Too much coffee!,stopping now.\n",
      "coffee cup 3 is served!\n",
      "I have had 3 cups of coffee.\n",
      "coffee cup 4 is served!\n",
      "I have had 4 cups of coffee.\n",
      "coffee cup 5 is served!\n",
      "I have had 5 cups of coffee.\n"
     ]
    }
   ],
   "source": [
    "cups_of_coffee = 0\n",
    "\n",
    "while cups_of_coffee < 5:\n",
    "    cups_of_coffee += 1\n",
    "    print(f\"coffee cup {cups_of_coffee} is served!\")\n",
    "    if cups_of_coffee == 2:\n",
    "        print(\"Too much coffee!,stopping now.\")\n",
    "        continue\n",
    "    print(\"I have had\", cups_of_coffee, \"cups of coffee.\")"
   ]
  },
  {
   "cell_type": "markdown",
   "metadata": {},
   "source": [
    "## Range function in loops"
   ]
  },
  {
   "cell_type": "code",
   "execution_count": 52,
   "metadata": {},
   "outputs": [
    {
     "name": "stdout",
     "output_type": "stream",
     "text": [
      "coffee is read,coffee cup 1 is served.\n",
      "coffee is read,coffee cup 3 is served.\n",
      "coffee is read,coffee cup 5 is served.\n",
      "coffee is read,coffee cup 7 is served.\n",
      "coffee is read,coffee cup 9 is served.\n",
      "coffee is read,coffee cup 11 is served.\n",
      "coffee is read,coffee cup 13 is served.\n",
      "coffee is read,coffee cup 15 is served.\n",
      "coffee is read,coffee cup 17 is served.\n",
      "coffee is read,coffee cup 19 is served.\n"
     ]
    }
   ],
   "source": [
    "for cup in range(1,20,2):\n",
    "    print(\"coffee is read,coffee cup\",cup,\"is served.\")"
   ]
  },
  {
   "cell_type": "markdown",
   "metadata": {},
   "source": [
    "## Infinite loop"
   ]
  },
  {
   "cell_type": "code",
   "execution_count": null,
   "metadata": {},
   "outputs": [],
   "source": [
    "while True:\n",
    "    print(\"This loop will run forever.\")\n",
    "    # break # you need to be careful while running this loop"
   ]
  },
  {
   "cell_type": "code",
   "execution_count": 3,
   "metadata": {},
   "outputs": [
    {
     "name": "stdout",
     "output_type": "stream",
     "text": [
      "This loop will run forever.\n",
      "This loop will run forever.\n",
      "This loop will run forever.\n",
      "This loop will run forever.\n",
      "This loop will run forever.\n",
      "This loop will run forever.\n",
      "This loop will run forever.\n",
      "This loop will run forever.\n",
      "This loop will run forever.\n",
      "This loop will run forever.\n"
     ]
    }
   ],
   "source": [
    "count = 0 \n",
    "\n",
    "while True:\n",
    "    count += 1\n",
    "    print(\"This loop will run forever.\")\n",
    "    if count == 10:\n",
    "        break"
   ]
  },
  {
   "cell_type": "markdown",
   "metadata": {},
   "source": [
    "## Pass statement"
   ]
  },
  {
   "cell_type": "code",
   "execution_count": 9,
   "metadata": {},
   "outputs": [
    {
     "name": "stdout",
     "output_type": "stream",
     "text": [
      "I want more coffee cup 1\n",
      "I have had 1 cups of coffee.\n",
      "I want more coffee cup 2\n",
      "I have had 2 cups of coffee.\n",
      "I want more coffee cup 3\n",
      "Too much coffee!,stopping now.\n",
      "I have had 3 cups of coffee.\n",
      "I want more coffee cup 4\n",
      "I have had 4 cups of coffee.\n",
      "I want more coffee cup 5\n",
      "I have had 5 cups of coffee.\n"
     ]
    }
   ],
   "source": [
    "cups_of_coffee = 0\n",
    "\n",
    "while cups_of_coffee < 5:\n",
    "    cups_of_coffee += 1\n",
    "    print(f\"I want more coffee cup {cups_of_coffee}\")\n",
    "    if cups_of_coffee == 3:\n",
    "        print(\"Too much coffee!,stopping now.\")\n",
    "        pass\n",
    "    print(\"I have had\", cups_of_coffee, \"cups of coffee.\")"
   ]
  },
  {
   "cell_type": "markdown",
   "metadata": {},
   "source": [
    "## try, except, and finally"
   ]
  },
  {
   "cell_type": "code",
   "execution_count": 17,
   "metadata": {},
   "outputs": [
    {
     "name": "stdout",
     "output_type": "stream",
     "text": [
      "Hello\n",
      "There is an error, you are trying to divide by zero which is impossible.\n",
      "This block will be executed no matter what\n"
     ]
    }
   ],
   "source": [
    "# example of try, except, and finally\n",
    "try:\n",
    "    print(\"Hello\")\n",
    "    print(5/0)\n",
    "except ZeroDivisionError:\n",
    "    print(\"There is an error, you are trying to divide by zero which is impossible.\")\n",
    "finally:\n",
    "    print(\"This block will be executed no matter what\")\n",
    "    # this block will be executed no matter what"
   ]
  },
  {
   "cell_type": "markdown",
   "metadata": {},
   "source": [
    "------"
   ]
  }
 ],
 "metadata": {
  "kernelspec": {
   "display_name": "base",
   "language": "python",
   "name": "python3"
  },
  "language_info": {
   "codemirror_mode": {
    "name": "ipython",
    "version": 3
   },
   "file_extension": ".py",
   "mimetype": "text/x-python",
   "name": "python",
   "nbconvert_exporter": "python",
   "pygments_lexer": "ipython3",
   "version": "3.12.9"
  }
 },
 "nbformat": 4,
 "nbformat_minor": 2
}
