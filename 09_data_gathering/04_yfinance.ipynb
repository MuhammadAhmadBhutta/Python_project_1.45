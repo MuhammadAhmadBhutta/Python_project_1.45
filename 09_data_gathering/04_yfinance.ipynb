{
 "cells": [
  {
   "cell_type": "markdown",
   "metadata": {},
   "source": [
    "# **Loading stock market data using yfiance library**"
   ]
  },
  {
   "cell_type": "code",
   "execution_count": 1,
   "metadata": {},
   "outputs": [],
   "source": [
    "import pandas as pd\n",
    "import yfinance as yf"
   ]
  },
  {
   "cell_type": "markdown",
   "metadata": {},
   "source": [
    "### Find the ticker symbols here: https://stockanalysis.com/stocks/"
   ]
  },
  {
   "cell_type": "code",
   "execution_count": 2,
   "metadata": {},
   "outputs": [],
   "source": [
    "# ticker define\n",
    "ticker = 'NVDA'"
   ]
  },
  {
   "cell_type": "code",
   "execution_count": 4,
   "metadata": {},
   "outputs": [],
   "source": [
    "# define the time period\n",
    "start_date = '2015-01-01'\n",
    "end_date = '2024-11-21'"
   ]
  },
  {
   "cell_type": "code",
   "execution_count": 5,
   "metadata": {},
   "outputs": [
    {
     "name": "stdout",
     "output_type": "stream",
     "text": [
      "YF.download() has changed argument auto_adjust default to True\n"
     ]
    },
    {
     "name": "stderr",
     "output_type": "stream",
     "text": [
      "Failed to get ticker 'NVDA' reason: HTTPSConnectionPool(host='fc.yahoo.com', port=443): Max retries exceeded with url: / (Caused by NameResolutionError(\"<urllib3.connection.HTTPSConnection object at 0x000001A2F1EA5DE0>: Failed to resolve 'fc.yahoo.com' ([Errno 11001] getaddrinfo failed)\"))\n",
      "[*********************100%***********************]  1 of 1 completed\n",
      "\n",
      "1 Failed download:\n",
      "['NVDA']: ConnectionError(MaxRetryError('HTTPSConnectionPool(host=\\'fc.yahoo.com\\', port=443): Max retries exceeded with url: / (Caused by NameResolutionError(\"<urllib3.connection.HTTPSConnection object at 0x000001A2F1EA45B0>: Failed to resolve \\'fc.yahoo.com\\' ([Errno 11001] getaddrinfo failed)\"))'))\n"
     ]
    },
    {
     "data": {
      "application/vnd.microsoft.datawrangler.viewer.v0+json": {
       "columns": [
        {
         "name": "Date",
         "rawType": "datetime64[ns]",
         "type": "datetime"
        },
        {
         "name": "('Adj Close', 'NVDA')",
         "rawType": "float64",
         "type": "float"
        },
        {
         "name": "('Close', 'NVDA')",
         "rawType": "float64",
         "type": "float"
        },
        {
         "name": "('High', 'NVDA')",
         "rawType": "float64",
         "type": "float"
        },
        {
         "name": "('Low', 'NVDA')",
         "rawType": "float64",
         "type": "float"
        },
        {
         "name": "('Open', 'NVDA')",
         "rawType": "float64",
         "type": "float"
        },
        {
         "name": "('Volume', 'NVDA')",
         "rawType": "float64",
         "type": "float"
        }
       ],
       "conversionMethod": "pd.DataFrame",
       "ref": "29748bb1-0509-4275-9cb1-5c360dd0a9c2",
       "rows": [],
       "shape": {
        "columns": 6,
        "rows": 0
       }
      },
      "text/html": [
       "<div>\n",
       "<style scoped>\n",
       "    .dataframe tbody tr th:only-of-type {\n",
       "        vertical-align: middle;\n",
       "    }\n",
       "\n",
       "    .dataframe tbody tr th {\n",
       "        vertical-align: top;\n",
       "    }\n",
       "\n",
       "    .dataframe thead tr th {\n",
       "        text-align: left;\n",
       "    }\n",
       "\n",
       "    .dataframe thead tr:last-of-type th {\n",
       "        text-align: right;\n",
       "    }\n",
       "</style>\n",
       "<table border=\"1\" class=\"dataframe\">\n",
       "  <thead>\n",
       "    <tr>\n",
       "      <th>Price</th>\n",
       "      <th>Adj Close</th>\n",
       "      <th>Close</th>\n",
       "      <th>High</th>\n",
       "      <th>Low</th>\n",
       "      <th>Open</th>\n",
       "      <th>Volume</th>\n",
       "    </tr>\n",
       "    <tr>\n",
       "      <th>Ticker</th>\n",
       "      <th>NVDA</th>\n",
       "      <th>NVDA</th>\n",
       "      <th>NVDA</th>\n",
       "      <th>NVDA</th>\n",
       "      <th>NVDA</th>\n",
       "      <th>NVDA</th>\n",
       "    </tr>\n",
       "    <tr>\n",
       "      <th>Date</th>\n",
       "      <th></th>\n",
       "      <th></th>\n",
       "      <th></th>\n",
       "      <th></th>\n",
       "      <th></th>\n",
       "      <th></th>\n",
       "    </tr>\n",
       "  </thead>\n",
       "  <tbody>\n",
       "  </tbody>\n",
       "</table>\n",
       "</div>"
      ],
      "text/plain": [
       "Empty DataFrame\n",
       "Columns: [(Adj Close, NVDA), (Close, NVDA), (High, NVDA), (Low, NVDA), (Open, NVDA), (Volume, NVDA)]\n",
       "Index: []"
      ]
     },
     "execution_count": 5,
     "metadata": {},
     "output_type": "execute_result"
    }
   ],
   "source": [
    "# download the data\n",
    "df_nvda = yf.download(ticker, start=start_date, end=end_date)\n",
    "df_nvda.head()"
   ]
  },
  {
   "cell_type": "markdown",
   "metadata": {},
   "source": [
    "# Define each column in the dataset\n",
    "- **Date**: The date of the stock market data\n",
    "- **Open**: The opening price of the stock\n",
    "- **High**: The highest price of the stock\n",
    "- **Low**: The lowest price of the stock\n",
    "- **Close**: The closing price of the stock\n",
    "- **Adj Close**: The adjusted closing price of the stock\n",
    "- **Volume**: The volume of the stock\n",
    "- **Ticker**: The ticker symbol of the stock\n",
    "- **Name**: The name of the stock\n",
    "- **Sector**: The sector of the stock\n",
    "- **Industry**: The industry of the stock\n",
    "- **Country**: The country of the stock"
   ]
  },
  {
   "cell_type": "code",
   "execution_count": 9,
   "metadata": {},
   "outputs": [],
   "source": [
    "# save the data in a csv file\n",
    "df_nvda.to_csv('datasets/' + ticker + '_yfinance.csv')"
   ]
  },
  {
   "cell_type": "code",
   "execution_count": 10,
   "metadata": {},
   "outputs": [
    {
     "name": "stderr",
     "output_type": "stream",
     "text": [
      "[*********************100%***********************]  5 of 5 completed\n"
     ]
    }
   ],
   "source": [
    "# download the data from multiple tickers\n",
    "tickers = ['AAPL', 'MSFT', 'NVDA', 'GOOGL', 'AMZN']\n",
    "start_date = '2010-01-01'\n",
    "end_date = '2024-11-21'\n",
    "df = yf.download(tickers, start=start_date, end=end_date)\n",
    "df.head()\n",
    "# save the data in a csv file\n",
    "df.to_csv('datasets/' + '_'.join(tickers) + '_yfinance.csv')"
   ]
  },
  {
   "cell_type": "code",
   "execution_count": 8,
   "metadata": {},
   "outputs": [
    {
     "name": "stdout",
     "output_type": "stream",
     "text": [
      "<class 'pandas.core.frame.DataFrame'>\n",
      "DatetimeIndex: 3747 entries, 2010-01-04 to 2024-11-20\n",
      "Data columns (total 30 columns):\n",
      " #   Column              Non-Null Count  Dtype  \n",
      "---  ------              --------------  -----  \n",
      " 0   (Adj Close, AAPL)   3747 non-null   float64\n",
      " 1   (Adj Close, AMZN)   3747 non-null   float64\n",
      " 2   (Adj Close, GOOGL)  3747 non-null   float64\n",
      " 3   (Adj Close, MSFT)   3747 non-null   float64\n",
      " 4   (Adj Close, NVDA)   3747 non-null   float64\n",
      " 5   (Close, AAPL)       3747 non-null   float64\n",
      " 6   (Close, AMZN)       3747 non-null   float64\n",
      " 7   (Close, GOOGL)      3747 non-null   float64\n",
      " 8   (Close, MSFT)       3747 non-null   float64\n",
      " 9   (Close, NVDA)       3747 non-null   float64\n",
      " 10  (High, AAPL)        3747 non-null   float64\n",
      " 11  (High, AMZN)        3747 non-null   float64\n",
      " 12  (High, GOOGL)       3747 non-null   float64\n",
      " 13  (High, MSFT)        3747 non-null   float64\n",
      " 14  (High, NVDA)        3747 non-null   float64\n",
      " 15  (Low, AAPL)         3747 non-null   float64\n",
      " 16  (Low, AMZN)         3747 non-null   float64\n",
      " 17  (Low, GOOGL)        3747 non-null   float64\n",
      " 18  (Low, MSFT)         3747 non-null   float64\n",
      " 19  (Low, NVDA)         3747 non-null   float64\n",
      " 20  (Open, AAPL)        3747 non-null   float64\n",
      " 21  (Open, AMZN)        3747 non-null   float64\n",
      " 22  (Open, GOOGL)       3747 non-null   float64\n",
      " 23  (Open, MSFT)        3747 non-null   float64\n",
      " 24  (Open, NVDA)        3747 non-null   float64\n",
      " 25  (Volume, AAPL)      3747 non-null   int64  \n",
      " 26  (Volume, AMZN)      3747 non-null   int64  \n",
      " 27  (Volume, GOOGL)     3747 non-null   int64  \n",
      " 28  (Volume, MSFT)      3747 non-null   int64  \n",
      " 29  (Volume, NVDA)      3747 non-null   int64  \n",
      "dtypes: float64(25), int64(5)\n",
      "memory usage: 907.5 KB\n"
     ]
    }
   ],
   "source": [
    "df.info()"
   ]
  },
  {
   "cell_type": "code",
   "execution_count": 12,
   "metadata": {},
   "outputs": [],
   "source": [
    "# ticker define\n",
    "ticker_1 = 'GOOGL'"
   ]
  },
  {
   "cell_type": "code",
   "execution_count": 14,
   "metadata": {},
   "outputs": [],
   "source": [
    "# define the time period\n",
    "start_date = '2015-01-01'\n",
    "end_date = '2025-4-8'"
   ]
  },
  {
   "cell_type": "code",
   "execution_count": 16,
   "metadata": {},
   "outputs": [
    {
     "name": "stderr",
     "output_type": "stream",
     "text": [
      "[*********************100%***********************]  1 of 1 completed\n"
     ]
    },
    {
     "data": {
      "application/vnd.microsoft.datawrangler.viewer.v0+json": {
       "columns": [
        {
         "name": "Date",
         "rawType": "datetime64[ns]",
         "type": "datetime"
        },
        {
         "name": "('Close', 'GOOGL')",
         "rawType": "float64",
         "type": "float"
        },
        {
         "name": "('High', 'GOOGL')",
         "rawType": "float64",
         "type": "float"
        },
        {
         "name": "('Low', 'GOOGL')",
         "rawType": "float64",
         "type": "float"
        },
        {
         "name": "('Open', 'GOOGL')",
         "rawType": "float64",
         "type": "float"
        },
        {
         "name": "('Volume', 'GOOGL')",
         "rawType": "int64",
         "type": "integer"
        }
       ],
       "conversionMethod": "pd.DataFrame",
       "ref": "98ba47e8-cdef-428b-88e8-181eb880c0d9",
       "rows": [
        [
         "2015-01-02 00:00:00",
         "26.351516723632812",
         "26.662529798560367",
         "26.26841222285612",
         "26.50328935778615",
         "26480000"
        ],
        [
         "2015-01-05 00:00:00",
         "25.849414825439453",
         "26.273885771708642",
         "25.764322836130155",
         "26.232085798376406",
         "41182000"
        ],
        [
         "2015-01-06 00:00:00",
         "25.211467742919922",
         "25.93649991035023",
         "25.15722648400916",
         "25.90116924923008",
         "54456000"
        ],
        [
         "2015-01-07 00:00:00",
         "25.137319564819336",
         "25.452810654848868",
         "25.062677568471276",
         "25.425940599196498",
         "46918000"
        ],
        [
         "2015-01-08 00:00:00",
         "25.224903106689453",
         "25.254261799553323",
         "24.633230341996608",
         "24.9561873531382",
         "73054000"
        ]
       ],
       "shape": {
        "columns": 5,
        "rows": 5
       }
      },
      "text/html": [
       "<div>\n",
       "<style scoped>\n",
       "    .dataframe tbody tr th:only-of-type {\n",
       "        vertical-align: middle;\n",
       "    }\n",
       "\n",
       "    .dataframe tbody tr th {\n",
       "        vertical-align: top;\n",
       "    }\n",
       "\n",
       "    .dataframe thead tr th {\n",
       "        text-align: left;\n",
       "    }\n",
       "\n",
       "    .dataframe thead tr:last-of-type th {\n",
       "        text-align: right;\n",
       "    }\n",
       "</style>\n",
       "<table border=\"1\" class=\"dataframe\">\n",
       "  <thead>\n",
       "    <tr>\n",
       "      <th>Price</th>\n",
       "      <th>Close</th>\n",
       "      <th>High</th>\n",
       "      <th>Low</th>\n",
       "      <th>Open</th>\n",
       "      <th>Volume</th>\n",
       "    </tr>\n",
       "    <tr>\n",
       "      <th>Ticker</th>\n",
       "      <th>GOOGL</th>\n",
       "      <th>GOOGL</th>\n",
       "      <th>GOOGL</th>\n",
       "      <th>GOOGL</th>\n",
       "      <th>GOOGL</th>\n",
       "    </tr>\n",
       "    <tr>\n",
       "      <th>Date</th>\n",
       "      <th></th>\n",
       "      <th></th>\n",
       "      <th></th>\n",
       "      <th></th>\n",
       "      <th></th>\n",
       "    </tr>\n",
       "  </thead>\n",
       "  <tbody>\n",
       "    <tr>\n",
       "      <th>2015-01-02</th>\n",
       "      <td>26.351517</td>\n",
       "      <td>26.662530</td>\n",
       "      <td>26.268412</td>\n",
       "      <td>26.503289</td>\n",
       "      <td>26480000</td>\n",
       "    </tr>\n",
       "    <tr>\n",
       "      <th>2015-01-05</th>\n",
       "      <td>25.849415</td>\n",
       "      <td>26.273886</td>\n",
       "      <td>25.764323</td>\n",
       "      <td>26.232086</td>\n",
       "      <td>41182000</td>\n",
       "    </tr>\n",
       "    <tr>\n",
       "      <th>2015-01-06</th>\n",
       "      <td>25.211468</td>\n",
       "      <td>25.936500</td>\n",
       "      <td>25.157226</td>\n",
       "      <td>25.901169</td>\n",
       "      <td>54456000</td>\n",
       "    </tr>\n",
       "    <tr>\n",
       "      <th>2015-01-07</th>\n",
       "      <td>25.137320</td>\n",
       "      <td>25.452811</td>\n",
       "      <td>25.062678</td>\n",
       "      <td>25.425941</td>\n",
       "      <td>46918000</td>\n",
       "    </tr>\n",
       "    <tr>\n",
       "      <th>2015-01-08</th>\n",
       "      <td>25.224903</td>\n",
       "      <td>25.254262</td>\n",
       "      <td>24.633230</td>\n",
       "      <td>24.956187</td>\n",
       "      <td>73054000</td>\n",
       "    </tr>\n",
       "  </tbody>\n",
       "</table>\n",
       "</div>"
      ],
      "text/plain": [
       "Price           Close       High        Low       Open    Volume\n",
       "Ticker          GOOGL      GOOGL      GOOGL      GOOGL     GOOGL\n",
       "Date                                                            \n",
       "2015-01-02  26.351517  26.662530  26.268412  26.503289  26480000\n",
       "2015-01-05  25.849415  26.273886  25.764323  26.232086  41182000\n",
       "2015-01-06  25.211468  25.936500  25.157226  25.901169  54456000\n",
       "2015-01-07  25.137320  25.452811  25.062678  25.425941  46918000\n",
       "2015-01-08  25.224903  25.254262  24.633230  24.956187  73054000"
      ]
     },
     "execution_count": 16,
     "metadata": {},
     "output_type": "execute_result"
    }
   ],
   "source": [
    "# download the data\n",
    "df_google = yf.download(ticker_1, start=start_date, end=end_date)\n",
    "df_google.head()"
   ]
  },
  {
   "cell_type": "code",
   "execution_count": 22,
   "metadata": {},
   "outputs": [],
   "source": [
    "# save the data in a csv file\n",
    "df_google.to_csv('datasets/' + ticker_1 + '_yfinance.csv')"
   ]
  },
  {
   "cell_type": "code",
   "execution_count": 28,
   "metadata": {},
   "outputs": [
    {
     "name": "stderr",
     "output_type": "stream",
     "text": [
      "[*********************100%***********************]  4 of 4 completed\n",
      "\n",
      "1 Failed download:\n",
      "[' UBS']: YFTzMissingError('possibly delisted; no timezone found')\n"
     ]
    }
   ],
   "source": [
    "tickers_2 = ['RKT',' UBS','EA','AIY.DE']\n",
    "start_date = '2010-01-01'\n",
    "end_date = '2025-4-8'\n",
    "df = yf.download(tickers_2, start=start_date, end=end_date)\n",
    "df.head()\n",
    "# save the data in a csv file\n",
    "df.to_csv('datasets/' + '_'.join(tickers_2) + '_yfinance.csv')"
   ]
  },
  {
   "cell_type": "markdown",
   "metadata": {},
   "source": [
    "Its give me error with other tickers \n",
    "\n",
    "`1 Failed download:\n",
    "[' UBS']: YFTzMissingError('possibly delisted; no timezone found')`\n",
    "\n",
    "Its work alone you see in the blow code "
   ]
  },
  {
   "cell_type": "code",
   "execution_count": 27,
   "metadata": {},
   "outputs": [
    {
     "name": "stderr",
     "output_type": "stream",
     "text": [
      "[*********************100%***********************]  1 of 1 completed\n"
     ]
    },
    {
     "name": "stdout",
     "output_type": "stream",
     "text": [
      "Price           Close       High        Low       Open   Volume\n",
      "Ticker            UBS        UBS        UBS        UBS      UBS\n",
      "Date                                                           \n",
      "2020-01-02  10.959760  10.959760  10.747690  10.773138  3352200\n",
      "2020-01-03  10.781621  10.832518  10.730724  10.756173  2627400\n",
      "2020-01-06  10.756174  10.773139  10.671346  10.688312  2318500\n",
      "2020-01-07  10.976725  11.014897  10.911407  10.959759  4237600\n",
      "2020-01-08  11.120933  11.154864  11.070036  11.087001  3363200\n"
     ]
    }
   ],
   "source": [
    "import yfinance as yf\n",
    "\n",
    "data = yf.download(\"UBS\", start=\"2020-01-01\", end=\"2023-01-01\")\n",
    "print(data.head())\n"
   ]
  },
  {
   "cell_type": "code",
   "execution_count": 29,
   "metadata": {},
   "outputs": [],
   "source": [
    "data.to_csv('datasets/UBS_yfinance.csv')"
   ]
  },
  {
   "cell_type": "code",
   "execution_count": 32,
   "metadata": {},
   "outputs": [
    {
     "name": "stderr",
     "output_type": "stream",
     "text": [
      "[*********************100%***********************]  1 of 1 completed\n",
      "[*********************100%***********************]  1 of 1 completed\n",
      "[*********************100%***********************]  1 of 1 completed"
     ]
    },
    {
     "name": "stdout",
     "output_type": "stream",
     "text": [
      "✅ Downloaded: AAPL\n",
      "✅ Downloaded: UBSFY\n"
     ]
    },
    {
     "name": "stderr",
     "output_type": "stream",
     "text": [
      "\n"
     ]
    },
    {
     "name": "stdout",
     "output_type": "stream",
     "text": [
      "✅ Downloaded: MSFT\n"
     ]
    },
    {
     "name": "stderr",
     "output_type": "stream",
     "text": [
      "[*********************100%***********************]  1 of 1 completed"
     ]
    },
    {
     "name": "stdout",
     "output_type": "stream",
     "text": [
      "✅ Downloaded: TSLA\n",
      "\n",
      "--- Download Summary ---\n",
      "Successful: ['AAPL', 'UBSFY', 'MSFT', 'TSLA']\n",
      "Failed: []\n"
     ]
    },
    {
     "name": "stderr",
     "output_type": "stream",
     "text": [
      "\n"
     ]
    }
   ],
   "source": [
    "import yfinance as yf\n",
    "\n",
    "tickers_3 = [\"AAPL\", \"UBSFY\", \"MSFT\", \"TSLA\"]  # Add whatever tickers you want\n",
    "successful_downloads = {}\n",
    "failed_downloads = []\n",
    "\n",
    "for ticker in tickers_3:\n",
    "    try:\n",
    "        data_1 = yf.download(ticker, start=\"2020-01-01\", end=\"2023-01-01\")\n",
    "        if not data.empty:\n",
    "            successful_downloads[ticker] = data\n",
    "            print(f\"✅ Downloaded: {ticker}\")\n",
    "        else:\n",
    "            raise ValueError(\"Data is empty\")\n",
    "    except Exception as e:\n",
    "        failed_downloads.append((ticker, str(e)))\n",
    "        print(f\"❌ Failed: {ticker} — {e}\")\n",
    "\n",
    "# Summary\n",
    "print(\"\\n--- Download Summary ---\")\n",
    "print(f\"Successful: {list(successful_downloads.keys())}\")\n",
    "print(f\"Failed: {[f[0] for f in failed_downloads]}\")\n"
   ]
  },
  {
   "cell_type": "code",
   "execution_count": 33,
   "metadata": {},
   "outputs": [],
   "source": [
    "data_1.to_csv('datasets/' + '_'.join(tickers_3) + '_yfinance.csv')"
   ]
  },
  {
   "cell_type": "markdown",
   "metadata": {},
   "source": [
    "--------------"
   ]
  }
 ],
 "metadata": {
  "kernelspec": {
   "display_name": "data_gethering",
   "language": "python",
   "name": "python3"
  },
  "language_info": {
   "codemirror_mode": {
    "name": "ipython",
    "version": 3
   },
   "file_extension": ".py",
   "mimetype": "text/x-python",
   "name": "python",
   "nbconvert_exporter": "python",
   "pygments_lexer": "ipython3",
   "version": "3.10.0"
  }
 },
 "nbformat": 4,
 "nbformat_minor": 2
}
