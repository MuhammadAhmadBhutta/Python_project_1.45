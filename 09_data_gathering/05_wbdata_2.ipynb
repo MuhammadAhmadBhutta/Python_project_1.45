{
 "cells": [
  {
   "cell_type": "code",
   "execution_count": null,
   "id": "6cc93ea0",
   "metadata": {},
   "outputs": [],
   "source": [
    "import wbdata\n",
    "import pandas as pd\n",
    "import datetime\n",
    "\n",
    "# Set time range\n",
    "data_date = datetime.datetime(1985, 1, 1), datetime.datetime(1995, 1, 1)\n",
    "\n",
    "# Country codes for Kuwait and Iraq\n",
    "countries = [\"KWT\", \"IRQ\"]\n",
    "\n",
    "# Indicators of interest (you can add more)\n",
    "indicators = {\n",
    "    'NY.GDP.MKTP.CD': 'GDP (current US$)',\n",
    "    'MS.MIL.XPND.GD.ZS': 'Military expenditure (% of GDP)',\n",
    "    'SP.POP.TOTL': 'Total population',\n",
    "}\n",
    "\n",
    "# Download data\n",
    "df = wbdata.get_dataframe(indicators, country=countries, data_date=data_date, convert_date=True)\n",
    "\n",
    "# Show data\n",
    "print(df.head())"
   ]
  },
  {
   "cell_type": "markdown",
   "id": "3149e255",
   "metadata": {},
   "source": [
    "--------------"
   ]
  }
 ],
 "metadata": {
  "kernelspec": {
   "display_name": "data_gethering",
   "language": "python",
   "name": "python3"
  },
  "language_info": {
   "name": "python",
   "version": "3.10.0"
  }
 },
 "nbformat": 4,
 "nbformat_minor": 5
}
