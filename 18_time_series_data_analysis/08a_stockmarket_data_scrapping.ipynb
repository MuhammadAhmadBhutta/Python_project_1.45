{
 "cells": [
  {
   "cell_type": "markdown",
   "id": "d7097ea0",
   "metadata": {},
   "source": [
    "# Stockmarket data scrapping"
   ]
  },
  {
   "cell_type": "code",
   "execution_count": 9,
   "id": "1f560900",
   "metadata": {},
   "outputs": [
    {
     "name": "stdout",
     "output_type": "stream",
     "text": [
      "(3523, 7)\n"
     ]
    },
    {
     "name": "stderr",
     "output_type": "stream",
     "text": [
      "C:\\Users\\Muhammad Ahmad\\AppData\\Local\\Temp\\ipykernel_3820\\256827032.py:17: FutureWarning: Series.__getitem__ treating keys as positions is deprecated. In a future version, integer keys will always be treated as labels (consistent with DataFrame behavior). To access a value by position, use `ser.iloc[pos]`\n",
      "  tickerDf['Close'][-1]\n"
     ]
    }
   ],
   "source": [
    "# load the libraries\n",
    "import yfinance as yf\n",
    "import pandas as pd\n",
    "\n",
    "# define the ticker symbol\n",
    "tickerSymbol = 'GOOGL'\n",
    "\n",
    "# get data on this ticker\n",
    "tickerdata = yf.Ticker(tickerSymbol)\n",
    "\n",
    "# tickerdata.info\n",
    "\n",
    "# get the historical prices for this ticker\n",
    "tickerDf = tickerdata.history(period='1d', start='2006-1-1', end='2020-1-1')\n",
    "\n",
    "# last closing price data\n",
    "tickerDf['Close'][-1]\n",
    "\n",
    "tickerDf.head()\n",
    "\n",
    "print(tickerDf.shape)\n",
    "# save the data to a csv file\n",
    "tickerDf.to_csv('GOOGL.csv')"
   ]
  },
  {
   "cell_type": "code",
   "execution_count": 12,
   "id": "0eca24a2",
   "metadata": {},
   "outputs": [
    {
     "name": "stdout",
     "output_type": "stream",
     "text": [
      "                                 Open        High         Low       Close  \\\n",
      "Date                                                                        \n",
      "2024-05-31 00:00:00-04:00  178.500000  180.320007  173.820007  178.080002   \n",
      "2024-06-03 00:00:00-04:00  178.130005  182.639999  174.490005  176.289993   \n",
      "2024-06-04 00:00:00-04:00  174.779999  177.759995  174.000000  174.770004   \n",
      "2024-06-05 00:00:00-04:00  175.350006  176.149994  172.130005  175.000000   \n",
      "2024-06-06 00:00:00-04:00  174.600006  179.729996  172.729996  177.940002   \n",
      "\n",
      "                             Volume  Dividends  Stock Splits  \n",
      "Date                                                          \n",
      "2024-05-31 00:00:00-04:00  67314600        0.0           0.0  \n",
      "2024-06-03 00:00:00-04:00  68568900        0.0           0.0  \n",
      "2024-06-04 00:00:00-04:00  60056300        0.0           0.0  \n",
      "2024-06-05 00:00:00-04:00  57953800        0.0           0.0  \n",
      "2024-06-06 00:00:00-04:00  69887000        0.0           0.0  \n",
      "(250, 7)\n"
     ]
    },
    {
     "name": "stderr",
     "output_type": "stream",
     "text": [
      "C:\\Users\\Muhammad Ahmad\\AppData\\Local\\Temp\\ipykernel_3820\\2079084619.py:27: FutureWarning: Series.__getitem__ treating keys as positions is deprecated. In a future version, integer keys will always be treated as labels (consistent with DataFrame behavior). To access a value by position, use `ser.iloc[pos]`\n",
      "  tickerDf['Close'][-1]\n"
     ]
    }
   ],
   "source": [
    "import pandas as pd\n",
    "import yfinance as yf\n",
    "from datetime import date, timedelta\n",
    "\n",
    "today = date.today()\n",
    "\n",
    "d1 = today .strftime(\"%Y-%m-%d\")\n",
    "d1 \n",
    "\n",
    "d2 = (today - timedelta(days=365)).strftime(\"%Y-%m-%d\")\n",
    "d2\n",
    "\n",
    "start_date = d2\n",
    "end_date = d1\n",
    "\n",
    "tickerSymbol = 'TSLA'\n",
    "\n",
    "# get data on this ticker\n",
    "tickerdata = yf.Ticker(tickerSymbol)\n",
    "\n",
    "# tickerdata.info\n",
    "\n",
    "# get the historical prices for this ticker\n",
    "tickerDf = tickerdata.history(period='1d', start=start_date, end=end_date)\n",
    "\n",
    "# last closing price data\n",
    "tickerDf['Close'][-1]\n",
    "\n",
    "tickerDf.head()\n",
    "\n",
    "print(tickerDf.head())\n",
    "print(tickerDf.shape)\n",
    "\n",
    "# save the data to a csv file\n",
    "tickerDf.to_csv('TSLA.csv')\n"
   ]
  },
  {
   "cell_type": "markdown",
   "id": "7f857b67",
   "metadata": {},
   "source": [
    "--------"
   ]
  }
 ],
 "metadata": {
  "kernelspec": {
   "display_name": "webscrapping",
   "language": "python",
   "name": "python3"
  },
  "language_info": {
   "codemirror_mode": {
    "name": "ipython",
    "version": 3
   },
   "file_extension": ".py",
   "mimetype": "text/x-python",
   "name": "python",
   "nbconvert_exporter": "python",
   "pygments_lexer": "ipython3",
   "version": "3.10.16"
  }
 },
 "nbformat": 4,
 "nbformat_minor": 5
}
